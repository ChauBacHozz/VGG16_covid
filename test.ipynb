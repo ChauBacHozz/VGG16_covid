{
 "cells": [
  {
   "cell_type": "code",
   "execution_count": 17,
   "metadata": {},
   "outputs": [],
   "source": [
    "import matplotlib.pyplot as plt\n",
    "import pandas as pd\n",
    "import timeit\n",
    "from VGG16 import *"
   ]
  },
  {
   "cell_type": "code",
   "execution_count": 18,
   "metadata": {},
   "outputs": [
    {
     "name": "stdout",
     "output_type": "stream",
     "text": [
      "0.000500403447023707\n",
      "Time:  230.2094520999999\n"
     ]
    },
    {
     "data": {
      "image/png": "[encoded data removed]",
      "text/plain": [
       "<Figure size 432x288 with 1 Axes>"
      ]
     },
     "metadata": {
      "needs_background": "light"
     },
     "output_type": "display_data"
    }
   ],
   "source": [
    "X_train = np.loadtxt('data/train_X.csv', delimiter = ',')\n",
    "Y_train = np.loadtxt('data/train_label.csv', delimiter = ',')\n",
    "s = np.arange(0, len(X_train), 1)\n",
    "np.random.shuffle(s)\n",
    "X_train = X_train[s].T\n",
    "Y_train = Y_train[s].T\n",
    "X_test = np.loadtxt('data/test_X.csv', delimiter = ',').T\n",
    "Y_test = np.loadtxt('data/test_label.csv', delimiter = ',').T\n",
    "# print(\"shape of X_train :\", X_train.shape)\n",
    "# print(\"shape of Y_train :\", Y_train.shape)\n",
    "# print(\"shape of X_test :\", X_test.shape)\n",
    "# print(\"shape of Y_test :\", Y_test.shape)\n",
    "\n",
    "imgs = []\n",
    "n_imgs = 20\n",
    "for i in range (n_imgs):\n",
    "    imgs.append(X_train[:, i].reshape(1,28,28))\n",
    "\n",
    "imgs = np.array(imgs) / 255\n",
    "# print(imgs.shape)\n",
    "\n",
    "start = timeit.default_timer()\n",
    "\n",
    "#Your statements here\n",
    "CNN = CNN(imgs.shape, Y_train[:,:n_imgs].shape)\n",
    "CNN.train(imgs, Y_train[:, :n_imgs], imgs, Y_train[:, :n_imgs],  0.9 , epochs = 1000,lr_down=True, lr_decay= 20)\n",
    "\n",
    "plt.plot(CNN.cost_his)\n",
    "print(CNN.cost_his[-1])\n",
    "stop2 = timeit.default_timer()\n",
    "\n",
    "print('Time: ', stop2 - start)  "
   ]
  }
 ],
 "metadata": {
  "kernelspec": {
   "display_name": "Python 3",
   "language": "python",
   "name": "python3"
  },
  "language_info": {
   "codemirror_mode": {
    "name": "ipython",
    "version": 3
   },
   "file_extension": ".py",
   "mimetype": "text/x-python",
   "name": "python",
   "nbconvert_exporter": "python",
   "pygments_lexer": "ipython3",
   "version": "3.10.6"
  },
  "orig_nbformat": 4
 },
 "nbformat": 4,
 "nbformat_minor": 2
}

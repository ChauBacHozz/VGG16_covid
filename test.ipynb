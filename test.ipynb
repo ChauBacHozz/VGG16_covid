{
 "cells": [
  {
   "cell_type": "code",
   "execution_count": 4,
   "metadata": {},
   "outputs": [],
   "source": [
    "import matplotlib.pyplot as plt\n",
    "import pandas as pd\n",
    "import timeit\n",
    "import VGG16\n",
    "import numpy as np"
   ]
  },
  {
   "cell_type": "code",
   "execution_count": 5,
   "metadata": {},
   "outputs": [
    {
     "name": "stdout",
     "output_type": "stream",
     "text": [
      "(5, 1, 28, 28)\n"
     ]
    }
   ],
   "source": [
    "X_train = np.loadtxt('data/train_X.csv', delimiter = ',')\n",
    "Y_train = np.loadtxt('data/train_label.csv', delimiter = ',')\n",
    "s = np.arange(0, len(X_train), 1)\n",
    "np.random.shuffle(s)\n",
    "X_train = X_train[s].T\n",
    "Y_train = Y_train[s].T\n",
    "X_test = np.loadtxt('data/test_X.csv', delimiter = ',').T\n",
    "Y_test = np.loadtxt('data/test_label.csv', delimiter = ',').T\n",
    "# print(\"shape of X_train :\", X_train.shape)\n",
    "# print(\"shape of Y_train :\", Y_train.shape)\n",
    "# print(\"shape of X_test :\", X_test.shape)\n",
    "# print(\"shape of Y_test :\", Y_test.shape)\n",
    "\n",
    "imgs = []\n",
    "n_imgs = 5\n",
    "for i in range (n_imgs):\n",
    "    imgs.append(X_train[:, i].reshape(1,28,28))\n",
    "\n",
    "imgs = np.array(imgs) / 255\n",
    "print(imgs.shape)\n",
    "\n",
    "imgs_val = []\n",
    "n_imgs_val = 5\n",
    "\n",
    "for i in range (n_imgs_val):\n",
    "    imgs_val.append(X_test[:, i].reshape(1,28,28))\n",
    "\n",
    "imgs_val = np.array(imgs_val) / 255\n",
    "# plt.imshow(imgs[25,0,:,:])\n",
    "K = np.random.randint(0, 10, size = (10, 1, 3, 3))"
   ]
  },
  {
   "cell_type": "code",
   "execution_count": 6,
   "metadata": {},
   "outputs": [
    {
     "name": "stdout",
     "output_type": "stream",
     "text": [
      "image shape:  (5, 1, 28, 28)\n",
      "Loading 20.0%\n",
      "Loading 40.0%\n",
      "Loading 60.0%\n",
      "Loading 80.0%\n",
      "Loading 100.0%\n",
      "Learning process completed!!!\n",
      "Time:  23.80811659999995\n"
     ]
    }
   ],
   "source": [
    "start = timeit.default_timer()\n",
    "\n",
    "#Your statements here\n",
    "model = VGG16.CNN(imgs.shape)\n",
    "print(\"image shape: \", imgs.shape)\n",
    "model.addLayer(VGG16.Conv_layer(kernel_size=3, n_kernels=64))\n",
    "model.addLayer(VGG16.Pool_layer(2))\n",
    "model.addLayer(VGG16.BatchNorm())\n",
    "model.addLayer(VGG16.Conv_layer(kernel_size=3, n_kernels=32))\n",
    "model.addLayer(VGG16.Pool_layer(2))\n",
    "model.addLayer(VGG16.Reshape())\n",
    "model.addLayer(VGG16.FullyConnected([10, 10], Y_train.shape[0],VGG16.Tanh))\n",
    "model.compile()\n",
    "# model.forward(imgs)\n",
    "model.train(imgs, Y_train[:,:n_imgs],imgs_val, Y_test[:,:n_imgs_val], 0.09, 5)\n",
    "stop = timeit.default_timer()\n",
    "print('Time: ', stop - start)  \n"
   ]
  },
  {
   "cell_type": "code",
   "execution_count": 7,
   "metadata": {},
   "outputs": [
    {
     "name": "stdout",
     "output_type": "stream",
     "text": [
      "0.23026454530318424\n",
      "0.22688573846211046\n"
     ]
    },
    {
     "data": {
      "image/png": "[encoded data removed]",
      "text/plain": [
       "<Figure size 432x288 with 1 Axes>"
      ]
     },
     "metadata": {
      "needs_background": "light"
     },
     "output_type": "display_data"
    }
   ],
   "source": [
    "plt.plot(model.cost_his)\n",
    "print(model.cost_his[0])\n",
    "print(model.cost_his[-1])"
   ]
  }
 ],
 "metadata": {
  "kernelspec": {
   "display_name": "Python 3",
   "language": "python",
   "name": "python3"
  },
  "language_info": {
   "codemirror_mode": {
    "name": "ipython",
    "version": 3
   },
   "file_extension": ".py",
   "mimetype": "text/x-python",
   "name": "python",
   "nbconvert_exporter": "python",
   "pygments_lexer": "ipython3",
   "version": "3.10.6"
  },
  "orig_nbformat": 4
 },
 "nbformat": 4,
 "nbformat_minor": 2
}
